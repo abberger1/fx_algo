{
 "cells": [
  {
   "cell_type": "code",
   "execution_count": 6,
   "metadata": {
    "collapsed": false
   },
   "outputs": [
    {
     "name": "stdout",
     "output_type": "stream",
     "text": [
      "TIME:1468426350.0 SYMBOL:EUR_USD BID:1.10825 ASK:1.10836 K:58.61 D:60.18 Ret:32.51 P:0.52 Stat:-1.52\n",
      "TIME:1468426365.0 SYMBOL:EUR_USD BID:1.10817 ASK:1.1083 K:57.0 D:60.06 Ret:31.38 P:0.49 Stat:-1.59\n",
      "TIME:1468426365.0 SYMBOL:EUR_USD BID:1.10817 ASK:1.1083 K:57.0 D:60.06 Ret:31.38 P:0.49 Stat:-1.59\n",
      "TIME:1468426390.0 SYMBOL:EUR_USD BID:1.10811 ASK:1.10825 K:53.7 D:59.74 Ret:31.2 P:0.46 Stat:-1.64\n",
      "TIME:1468426395.0 SYMBOL:EUR_USD BID:1.10809 ASK:1.10824 K:52.34 D:59.59 Ret:30.79 P:0.49 Stat:-1.6\n",
      "TIME:1468426395.0 SYMBOL:EUR_USD BID:1.10809 ASK:1.10824 K:52.34 D:59.59 Ret:30.79 P:0.49 Stat:-1.6\n",
      "TIME:1468426420.0 SYMBOL:EUR_USD BID:1.10809 ASK:1.10823 K:48.37 D:58.99 Ret:28.12 P:0.55 Stat:-1.47\n",
      "TIME:1468426425.0 SYMBOL:EUR_USD BID:1.10806 ASK:1.10819 K:47.23 D:58.77 Ret:28.71 P:0.56 Stat:-1.44\n",
      "^CProcess Process-3:\n",
      "Traceback (most recent call last):\n",
      "Traceback (most recent call last):\n",
      "  File \"./master.py\", line 184, in <module>\n",
      "Process Process-2:\n",
      "Traceback (most recent call last):\n",
      "    Model().main()\n",
      "  File \"./master.py\", line 181, in main\n",
      "  File \"/usr/lib/python3.4/multiprocessing/process.py\", line 254, in _bootstrap\n",
      "    self.run()\n",
      "  File \"/usr/lib/python3.4/multiprocessing/process.py\", line 93, in run\n",
      "    self._target(*self._args, **self._kwargs)\n",
      "    model.join(); risk.join(); signal.join()\n",
      "  File \"/usr/lib/python3.4/multiprocessing/process.py\", line 121, in join\n",
      "  File \"/usr/lib/python3.4/multiprocessing/process.py\", line 254, in _bootstrap\n",
      "    self.run()\n",
      "Process Process-1:\n",
      "    res = self._popen.wait(timeout)\n",
      "  File \"./master.py\", line 124, in signal_listen\n",
      "    channel, K_to_D, tick = self.signal_queue.get()\n",
      "  File \"/usr/lib/python3.4/multiprocessing/process.py\", line 93, in run\n",
      "    self._target(*self._args, **self._kwargs)\n",
      "  File \"/usr/lib/python3.4/multiprocessing/popen_fork.py\", line 54, in wait\n",
      "Traceback (most recent call last):\n",
      "  File \"./master.py\", line 95, in risk_control\n",
      "    tick = self.signal_queue.get()[2]\n",
      "  File \"/usr/lib/python3.4/multiprocessing/queues.py\", line 95, in get\n",
      "    with self._rlock:\n",
      "    return self.poll(os.WNOHANG if timeout == 0.0 else 0)\n",
      "  File \"/usr/lib/python3.4/multiprocessing/popen_fork.py\", line 30, in poll\n",
      "    pid, sts = os.waitpid(self.pid, flag)\n",
      "KeyboardInterrupt\n",
      "  File \"/usr/lib/python3.4/multiprocessing/process.py\", line 254, in _bootstrap\n",
      "    self.run()\n",
      "  File \"/usr/lib/python3.4/multiprocessing/queues.py\", line 96, in get\n",
      "    res = self._recv_bytes()\n",
      "  File \"/usr/lib/python3.4/multiprocessing/synchronize.py\", line 96, in __enter__\n",
      "    return self._semlock.__enter__()\n",
      "  File \"/usr/lib/python3.4/multiprocessing/process.py\", line 93, in run\n",
      "    self._target(*self._args, **self._kwargs)\n",
      "KeyboardInterrupt\n",
      "  File \"./master.py\", line 172, in trade_model\n",
      "    model = self.signals()\n",
      "  File \"./master.py\", line 54, in signals\n",
      "    \"S5\")\n",
      "  File \"/usr/lib/python3.4/multiprocessing/connection.py\", line 216, in recv_bytes\n",
      "    buf = self._recv_bytes(maxlength)\n",
      "  File \"/home/andrew/Projects/Oanda/Backup/compute.py\", line 116, in __init__\n",
      "    super().__init__(count, symbol, longWin, shortWin, granularity)\n",
      "  File \"/usr/lib/python3.4/multiprocessing/connection.py\", line 416, in _recv_bytes\n",
      "    buf = self._recv(4)\n",
      "  File \"/home/andrew/Projects/Oanda/Backup/compute.py\", line 51, in __init__\n",
      "    self.candles = GetCandles(count, symbol, granularity).request()\n",
      "  File \"/usr/lib/python3.4/multiprocessing/connection.py\", line 383, in _recv\n",
      "    chunk = read(handle, remaining)\n",
      "  File \"/home/andrew/Projects/Oanda/Backup/compute.py\", line 39, in request\n",
      "    candles[\"highMid\"] = (candles[\"highAsk\"]+candles[\"highBid\"]) / 2\n",
      "KeyboardInterrupt\n",
      "KeyboardInterrupt\n",
      "\n"
     ]
    }
   ],
   "source": [
    "!./master.py"
   ]
  }
 ],
 "metadata": {
  "kernelspec": {
   "display_name": "Python 3",
   "language": "python",
   "name": "python3"
  },
  "language_info": {
   "codemirror_mode": {
    "name": "ipython",
    "version": 3
   },
   "file_extension": ".py",
   "mimetype": "text/x-python",
   "name": "python",
   "nbconvert_exporter": "python",
   "pygments_lexer": "ipython3",
   "version": "3.4.3"
  }
 },
 "nbformat": 4,
 "nbformat_minor": 0
}
